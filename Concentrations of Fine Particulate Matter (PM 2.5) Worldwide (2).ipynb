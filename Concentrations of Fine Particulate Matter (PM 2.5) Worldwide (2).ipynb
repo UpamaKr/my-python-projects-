{
 "cells": [
  {
   "cell_type": "code",
   "execution_count": 38,
   "id": "d3c2db7f",
   "metadata": {},
   "outputs": [
    {
     "data": {
      "text/html": [
       "        <script type=\"text/javascript\">\n",
       "        window.PlotlyConfig = {MathJaxConfig: 'local'};\n",
       "        if (window.MathJax && window.MathJax.Hub && window.MathJax.Hub.Config) {window.MathJax.Hub.Config({SVG: {font: \"STIX-Web\"}});}\n",
       "        if (typeof require !== 'undefined') {\n",
       "        require.undef(\"plotly\");\n",
       "        requirejs.config({\n",
       "            paths: {\n",
       "                'plotly': ['https://cdn.plot.ly/plotly-2.12.1.min']\n",
       "            }\n",
       "        });\n",
       "        require(['plotly'], function(Plotly) {\n",
       "            window._Plotly = Plotly;\n",
       "        });\n",
       "        }\n",
       "        </script>\n",
       "        "
      ]
     },
     "metadata": {},
     "output_type": "display_data"
    }
   ],
   "source": [
    "import plotly.graph_objs as go \n",
    "from plotly.offline import init_notebook_mode,iplot\n",
    "init_notebook_mode(connected=True)"
   ]
  },
  {
   "cell_type": "code",
   "execution_count": 39,
   "id": "679d1fd1",
   "metadata": {},
   "outputs": [],
   "source": [
    "import pandas as pd\n",
    "import io\n",
    "import plotly.graph_objs as go \n",
    "from plotly.offline import plot\n",
    "df = pd.read_csv('data 3.csv')"
   ]
  },
  {
   "cell_type": "code",
   "execution_count": 40,
   "id": "d21fcb1e",
   "metadata": {},
   "outputs": [
    {
     "data": {
      "text/html": [
       "<div>\n",
       "<style scoped>\n",
       "    .dataframe tbody tr th:only-of-type {\n",
       "        vertical-align: middle;\n",
       "    }\n",
       "\n",
       "    .dataframe tbody tr th {\n",
       "        vertical-align: top;\n",
       "    }\n",
       "\n",
       "    .dataframe thead th {\n",
       "        text-align: right;\n",
       "    }\n",
       "</style>\n",
       "<table border=\"1\" class=\"dataframe\">\n",
       "  <thead>\n",
       "    <tr style=\"text-align: right;\">\n",
       "      <th></th>\n",
       "      <th>IndicatorCode</th>\n",
       "      <th>Indicator</th>\n",
       "      <th>ValueType</th>\n",
       "      <th>ParentLocationCode</th>\n",
       "      <th>ParentLocation</th>\n",
       "      <th>Location type</th>\n",
       "      <th>SpatialDimValueCode</th>\n",
       "      <th>Location</th>\n",
       "      <th>Period type</th>\n",
       "      <th>Period</th>\n",
       "      <th>...</th>\n",
       "      <th>FactValueUoM</th>\n",
       "      <th>FactValueNumericLowPrefix</th>\n",
       "      <th>FactValueNumericLow</th>\n",
       "      <th>FactValueNumericHighPrefix</th>\n",
       "      <th>FactValueNumericHigh</th>\n",
       "      <th>Value</th>\n",
       "      <th>FactValueTranslationID</th>\n",
       "      <th>FactComments</th>\n",
       "      <th>Language</th>\n",
       "      <th>DateModified</th>\n",
       "    </tr>\n",
       "  </thead>\n",
       "  <tbody>\n",
       "    <tr>\n",
       "      <th>0</th>\n",
       "      <td>SDGPM25</td>\n",
       "      <td>Concentrations of fine particulate matter (PM2.5)</td>\n",
       "      <td>text</td>\n",
       "      <td>AMR</td>\n",
       "      <td>Americas</td>\n",
       "      <td>Country</td>\n",
       "      <td>GRD</td>\n",
       "      <td>Grenada</td>\n",
       "      <td>Year</td>\n",
       "      <td>2019</td>\n",
       "      <td>...</td>\n",
       "      <td>NaN</td>\n",
       "      <td>NaN</td>\n",
       "      <td>7.07</td>\n",
       "      <td>NaN</td>\n",
       "      <td>13.20</td>\n",
       "      <td>10.08 [7.07 – 13.2]</td>\n",
       "      <td>NaN</td>\n",
       "      <td>NaN</td>\n",
       "      <td>EN</td>\n",
       "      <td>2022-08-11T22:00:00.000Z</td>\n",
       "    </tr>\n",
       "    <tr>\n",
       "      <th>1</th>\n",
       "      <td>SDGPM25</td>\n",
       "      <td>Concentrations of fine particulate matter (PM2.5)</td>\n",
       "      <td>text</td>\n",
       "      <td>AMR</td>\n",
       "      <td>Americas</td>\n",
       "      <td>Country</td>\n",
       "      <td>TTO</td>\n",
       "      <td>Trinidad and Tobago</td>\n",
       "      <td>Year</td>\n",
       "      <td>2019</td>\n",
       "      <td>...</td>\n",
       "      <td>NaN</td>\n",
       "      <td>NaN</td>\n",
       "      <td>7.93</td>\n",
       "      <td>NaN</td>\n",
       "      <td>12.59</td>\n",
       "      <td>10.26 [7.93 – 12.59]</td>\n",
       "      <td>NaN</td>\n",
       "      <td>NaN</td>\n",
       "      <td>EN</td>\n",
       "      <td>2022-08-11T22:00:00.000Z</td>\n",
       "    </tr>\n",
       "    <tr>\n",
       "      <th>2</th>\n",
       "      <td>SDGPM25</td>\n",
       "      <td>Concentrations of fine particulate matter (PM2.5)</td>\n",
       "      <td>text</td>\n",
       "      <td>EUR</td>\n",
       "      <td>Europe</td>\n",
       "      <td>Country</td>\n",
       "      <td>LTU</td>\n",
       "      <td>Lithuania</td>\n",
       "      <td>Year</td>\n",
       "      <td>2019</td>\n",
       "      <td>...</td>\n",
       "      <td>NaN</td>\n",
       "      <td>NaN</td>\n",
       "      <td>9.29</td>\n",
       "      <td>NaN</td>\n",
       "      <td>11.22</td>\n",
       "      <td>10.37 [9.29 – 11.22]</td>\n",
       "      <td>NaN</td>\n",
       "      <td>NaN</td>\n",
       "      <td>EN</td>\n",
       "      <td>2022-08-11T22:00:00.000Z</td>\n",
       "    </tr>\n",
       "    <tr>\n",
       "      <th>3</th>\n",
       "      <td>SDGPM25</td>\n",
       "      <td>Concentrations of fine particulate matter (PM2.5)</td>\n",
       "      <td>text</td>\n",
       "      <td>EUR</td>\n",
       "      <td>Europe</td>\n",
       "      <td>Country</td>\n",
       "      <td>FRA</td>\n",
       "      <td>France</td>\n",
       "      <td>Year</td>\n",
       "      <td>2019</td>\n",
       "      <td>...</td>\n",
       "      <td>NaN</td>\n",
       "      <td>NaN</td>\n",
       "      <td>10.27</td>\n",
       "      <td>NaN</td>\n",
       "      <td>10.65</td>\n",
       "      <td>10.46 [10.27 – 10.65]</td>\n",
       "      <td>NaN</td>\n",
       "      <td>NaN</td>\n",
       "      <td>EN</td>\n",
       "      <td>2022-08-11T22:00:00.000Z</td>\n",
       "    </tr>\n",
       "    <tr>\n",
       "      <th>4</th>\n",
       "      <td>SDGPM25</td>\n",
       "      <td>Concentrations of fine particulate matter (PM2.5)</td>\n",
       "      <td>text</td>\n",
       "      <td>AFR</td>\n",
       "      <td>Africa</td>\n",
       "      <td>Country</td>\n",
       "      <td>MUS</td>\n",
       "      <td>Mauritius</td>\n",
       "      <td>Year</td>\n",
       "      <td>2019</td>\n",
       "      <td>...</td>\n",
       "      <td>NaN</td>\n",
       "      <td>NaN</td>\n",
       "      <td>8.25</td>\n",
       "      <td>NaN</td>\n",
       "      <td>12.84</td>\n",
       "      <td>10.48 [8.25 – 12.84]</td>\n",
       "      <td>NaN</td>\n",
       "      <td>NaN</td>\n",
       "      <td>EN</td>\n",
       "      <td>2022-08-11T22:00:00.000Z</td>\n",
       "    </tr>\n",
       "  </tbody>\n",
       "</table>\n",
       "<p>5 rows × 34 columns</p>\n",
       "</div>"
      ],
      "text/plain": [
       "  IndicatorCode                                          Indicator ValueType  \\\n",
       "0       SDGPM25  Concentrations of fine particulate matter (PM2.5)      text   \n",
       "1       SDGPM25  Concentrations of fine particulate matter (PM2.5)      text   \n",
       "2       SDGPM25  Concentrations of fine particulate matter (PM2.5)      text   \n",
       "3       SDGPM25  Concentrations of fine particulate matter (PM2.5)      text   \n",
       "4       SDGPM25  Concentrations of fine particulate matter (PM2.5)      text   \n",
       "\n",
       "  ParentLocationCode ParentLocation Location type SpatialDimValueCode  \\\n",
       "0                AMR       Americas       Country                 GRD   \n",
       "1                AMR       Americas       Country                 TTO   \n",
       "2                EUR         Europe       Country                 LTU   \n",
       "3                EUR         Europe       Country                 FRA   \n",
       "4                AFR         Africa       Country                 MUS   \n",
       "\n",
       "              Location Period type  Period  ...  FactValueUoM  \\\n",
       "0              Grenada        Year    2019  ...           NaN   \n",
       "1  Trinidad and Tobago        Year    2019  ...           NaN   \n",
       "2            Lithuania        Year    2019  ...           NaN   \n",
       "3               France        Year    2019  ...           NaN   \n",
       "4            Mauritius        Year    2019  ...           NaN   \n",
       "\n",
       "  FactValueNumericLowPrefix FactValueNumericLow FactValueNumericHighPrefix  \\\n",
       "0                       NaN                7.07                        NaN   \n",
       "1                       NaN                7.93                        NaN   \n",
       "2                       NaN                9.29                        NaN   \n",
       "3                       NaN               10.27                        NaN   \n",
       "4                       NaN                8.25                        NaN   \n",
       "\n",
       "   FactValueNumericHigh                  Value  FactValueTranslationID  \\\n",
       "0                 13.20    10.08 [7.07 – 13.2]                     NaN   \n",
       "1                 12.59   10.26 [7.93 – 12.59]                     NaN   \n",
       "2                 11.22   10.37 [9.29 – 11.22]                     NaN   \n",
       "3                 10.65  10.46 [10.27 – 10.65]                     NaN   \n",
       "4                 12.84   10.48 [8.25 – 12.84]                     NaN   \n",
       "\n",
       "   FactComments  Language              DateModified  \n",
       "0           NaN        EN  2022-08-11T22:00:00.000Z  \n",
       "1           NaN        EN  2022-08-11T22:00:00.000Z  \n",
       "2           NaN        EN  2022-08-11T22:00:00.000Z  \n",
       "3           NaN        EN  2022-08-11T22:00:00.000Z  \n",
       "4           NaN        EN  2022-08-11T22:00:00.000Z  \n",
       "\n",
       "[5 rows x 34 columns]"
      ]
     },
     "execution_count": 40,
     "metadata": {},
     "output_type": "execute_result"
    }
   ],
   "source": [
    "df.head()\n",
    "\n"
   ]
  },
  {
   "cell_type": "code",
   "execution_count": 41,
   "id": "3899e766",
   "metadata": {},
   "outputs": [
    {
     "name": "stdout",
     "output_type": "stream",
     "text": [
      "<class 'pandas.core.frame.DataFrame'>\n",
      "RangeIndex: 195 entries, 0 to 194\n",
      "Data columns (total 34 columns):\n",
      " #   Column                      Non-Null Count  Dtype  \n",
      "---  ------                      --------------  -----  \n",
      " 0   IndicatorCode               195 non-null    object \n",
      " 1   Indicator                   195 non-null    object \n",
      " 2   ValueType                   195 non-null    object \n",
      " 3   ParentLocationCode          195 non-null    object \n",
      " 4   ParentLocation              195 non-null    object \n",
      " 5   Location type               195 non-null    object \n",
      " 6   SpatialDimValueCode         195 non-null    object \n",
      " 7   Location                    195 non-null    object \n",
      " 8   Period type                 195 non-null    object \n",
      " 9   Period                      195 non-null    int64  \n",
      " 10  IsLatestYear                195 non-null    bool   \n",
      " 11  Dim1 type                   195 non-null    object \n",
      " 12  Dim1                        195 non-null    object \n",
      " 13  Dim1ValueCode               195 non-null    object \n",
      " 14  Dim2 type                   0 non-null      float64\n",
      " 15  Dim2                        0 non-null      float64\n",
      " 16  Dim2ValueCode               0 non-null      float64\n",
      " 17  Dim3 type                   0 non-null      float64\n",
      " 18  Dim3                        0 non-null      float64\n",
      " 19  Dim3ValueCode               0 non-null      float64\n",
      " 20  DataSourceDimValueCode      0 non-null      float64\n",
      " 21  DataSource                  0 non-null      float64\n",
      " 22  FactValueNumericPrefix      0 non-null      float64\n",
      " 23  FactValueNumeric            195 non-null    float64\n",
      " 24  FactValueUoM                0 non-null      float64\n",
      " 25  FactValueNumericLowPrefix   0 non-null      float64\n",
      " 26  FactValueNumericLow         195 non-null    float64\n",
      " 27  FactValueNumericHighPrefix  0 non-null      float64\n",
      " 28  FactValueNumericHigh        195 non-null    float64\n",
      " 29  Value                       195 non-null    object \n",
      " 30  FactValueTranslationID      0 non-null      float64\n",
      " 31  FactComments                0 non-null      float64\n",
      " 32  Language                    195 non-null    object \n",
      " 33  DateModified                195 non-null    object \n",
      "dtypes: bool(1), float64(17), int64(1), object(15)\n",
      "memory usage: 50.6+ KB\n"
     ]
    }
   ],
   "source": [
    "df.info()"
   ]
  },
  {
   "cell_type": "code",
   "execution_count": 42,
   "id": "08832fc4",
   "metadata": {},
   "outputs": [
    {
     "data": {
      "text/plain": [
       "0                                                Grenada\n",
       "1                                    Trinidad and Tobago\n",
       "2                                              Lithuania\n",
       "3                                                 France\n",
       "4                                              Mauritius\n",
       "                             ...                        \n",
       "190    United Kingdom of Great Britain and Northern I...\n",
       "191                                              Denmark\n",
       "192                                                Haiti\n",
       "193                                             Barbados\n",
       "194                                           San Marino\n",
       "Name: Location, Length: 195, dtype: object"
      ]
     },
     "execution_count": 42,
     "metadata": {},
     "output_type": "execute_result"
    }
   ],
   "source": [
    "df['Location']"
   ]
  },
  {
   "cell_type": "code",
   "execution_count": 43,
   "id": "93f1c450",
   "metadata": {},
   "outputs": [],
   "source": [
    "value =df['Value'].str.split(' ').str[0].astype(float)"
   ]
  },
  {
   "cell_type": "code",
   "execution_count": 44,
   "id": "4a22b436",
   "metadata": {},
   "outputs": [
    {
     "data": {
      "text/plain": [
       "0      10.08\n",
       "1      10.26\n",
       "2      10.37\n",
       "3      10.46\n",
       "4      10.48\n",
       "       ...  \n",
       "190     9.52\n",
       "191     9.66\n",
       "192     9.69\n",
       "193     9.79\n",
       "194     9.85\n",
       "Name: Value, Length: 195, dtype: float64"
      ]
     },
     "execution_count": 44,
     "metadata": {},
     "output_type": "execute_result"
    }
   ],
   "source": [
    "value"
   ]
  },
  {
   "cell_type": "code",
   "execution_count": null,
   "id": "91bbf9d7",
   "metadata": {},
   "outputs": [],
   "source": []
  },
  {
   "cell_type": "code",
   "execution_count": null,
   "id": "5b830f7f",
   "metadata": {},
   "outputs": [],
   "source": []
  },
  {
   "cell_type": "code",
   "execution_count": 37,
   "id": "1dae83d3",
   "metadata": {},
   "outputs": [
    {
     "data": {
      "application/vnd.plotly.v1+json": {
       "config": {
        "plotlyServerURL": "https://plotly.your-company.com"
       },
       "data": [
        {
         "colorbar": {
          "title": {
           "text": "Concentrations of fine Particulate matter (PM 2.5)"
          }
         },
         "colorscale": [
          [
           0,
           "#440154"
          ],
          [
           0.1111111111111111,
           "#482878"
          ],
          [
           0.2222222222222222,
           "#3e4989"
          ],
          [
           0.3333333333333333,
           "#31688e"
          ],
          [
           0.4444444444444444,
           "#26828e"
          ],
          [
           0.5555555555555556,
           "#1f9e89"
          ],
          [
           0.6666666666666666,
           "#35b779"
          ],
          [
           0.7777777777777778,
           "#6ece58"
          ],
          [
           0.8888888888888888,
           "#b5de2b"
          ],
          [
           1,
           "#fde725"
          ]
         ],
         "locationmode": "country names",
         "locations": [
          "Grenada",
          "Trinidad and Tobago",
          "Lithuania",
          "France",
          "Mauritius",
          "Belize",
          "Germany",
          "Netherlands",
          "Japan",
          "Brazil",
          "Guyana",
          "Belgium",
          "Austria",
          "Panama",
          "Namibia",
          "Latvia",
          "Argentina",
          "Suriname",
          "Paraguay",
          "Republic of Moldova",
          "Kenya",
          "Botswana",
          "Malta",
          "Maldives",
          "Zimbabwe",
          "Romania",
          "Cuba",
          "Singapore",
          "Morocco",
          "Ukraine",
          "Colombia",
          "Slovenia",
          "Italy",
          "Hungary",
          "Somalia",
          "Czechia",
          "Comoros",
          "Cyprus",
          "Greece",
          "Costa Rica",
          "Jamaica",
          "Eswatini",
          "Croatia",
          "United Republic of Tanzania",
          "Belarus",
          "Slovakia",
          "Nicaragua",
          "Madagascar",
          "Venezuela (Bolivarian Republic of)",
          "Albania",
          "Mozambique",
          "Ecuador",
          "Zambia",
          "Seychelles",
          "Bulgaria",
          "Lesotho",
          "Cambodia",
          "Mexico",
          "Malawi",
          "Poland",
          "Honduras",
          "Georgia",
          "Montenegro",
          "Indonesia",
          "Israel",
          "South Africa",
          "Djibouti",
          "South Sudan",
          "Timor-Leste",
          "Chile",
          "Guatemala",
          "Viet Nam",
          "Lao People's Democratic Republic",
          "Sudan",
          "Malaysia",
          "Serbia",
          "Ethiopia",
          "El Salvador",
          "Philippines",
          "Algeria",
          "Eritrea",
          "Türkiye",
          "Sri Lanka",
          "Republic of Korea",
          "Lebanon",
          "Azerbaijan",
          "Thailand",
          "Syrian Arab Republic",
          "The former Yugoslav Republic of Macedonia",
          "Bolivia (Plurinational State of)",
          "Equatorial Guinea",
          "Jordan",
          "Bhutan",
          "Bosnia and Herzegovina",
          "Gabon",
          "Turkmenistan",
          "Kazakhstan",
          "Tunisia",
          "Myanmar",
          "Angola",
          "Central African Republic",
          "Burundi",
          "Peru",
          "Congo",
          "Libya",
          "Occupied Palestinian territory",
          "Cabo Verde",
          "Uganda",
          "Benin",
          "Democratic Republic of the Congo",
          "Iran (Islamic Republic of)",
          "Sao Tome and Principe",
          "Armenia",
          "Guinea-Bissau",
          "Oman",
          "Rwanda",
          "Togo",
          "Liberia",
          "Nepal",
          "Guinea",
          "Kyrgyzstan",
          "China",
          "Senegal",
          "Mali",
          "Gambia",
          "Iraq",
          "Sierra Leone",
          "Côte d’Ivoire",
          "Burkina Faso",
          "Uzbekistan",
          "Chad",
          "Mongolia",
          "Democratic People's Republic of Korea",
          "Yemen",
          "United Arab Emirates",
          "Mauritania",
          "Bangladesh",
          "Ghana",
          "Bahamas",
          "Finland",
          "Iceland",
          "Sweden",
          "Pakistan",
          "Niger",
          "India",
          "Bahrain",
          "Tajikistan",
          "Nigeria",
          "Cameroon",
          "Saudi Arabia",
          "Qatar",
          "Norway",
          "Estonia",
          "Canada",
          "Niue",
          "Tuvalu",
          "Brunei Darussalam",
          "Afghanistan",
          "Egypt",
          "Kuwait",
          "United States of America",
          "Marshall Islands",
          "Portugal",
          "Fiji",
          "Nauru",
          "Tonga",
          "Dominican Republic",
          "Kiribati",
          "Samoa",
          "Micronesia (Federated States of)",
          "Cook Islands",
          "Palau",
          "Solomon Islands",
          "Saint Kitts and Nevis",
          "Ireland",
          "Dominica",
          "Antigua and Barbuda",
          "Vanuatu",
          "Uruguay",
          "Andorra",
          "New Zealand",
          "Russian Federation",
          "Papua New Guinea",
          "Luxembourg",
          "Australia",
          "Switzerland",
          "Saint Lucia",
          "Monaco",
          "Spain",
          "Saint Vincent and the Grenadines",
          "United Kingdom of Great Britain and Northern Ireland",
          "Denmark",
          "Haiti",
          "Barbados",
          "San Marino"
         ],
         "reversescale": true,
         "text": [
          "Grenada",
          "Trinidad and Tobago",
          "Lithuania",
          "France",
          "Mauritius",
          "Belize",
          "Germany",
          "Netherlands",
          "Japan",
          "Brazil",
          "Guyana",
          "Belgium",
          "Austria",
          "Panama",
          "Namibia",
          "Latvia",
          "Argentina",
          "Suriname",
          "Paraguay",
          "Republic of Moldova",
          "Kenya",
          "Botswana",
          "Malta",
          "Maldives",
          "Zimbabwe",
          "Romania",
          "Cuba",
          "Singapore",
          "Morocco",
          "Ukraine",
          "Colombia",
          "Slovenia",
          "Italy",
          "Hungary",
          "Somalia",
          "Czechia",
          "Comoros",
          "Cyprus",
          "Greece",
          "Costa Rica",
          "Jamaica",
          "Eswatini",
          "Croatia",
          "United Republic of Tanzania",
          "Belarus",
          "Slovakia",
          "Nicaragua",
          "Madagascar",
          "Venezuela (Bolivarian Republic of)",
          "Albania",
          "Mozambique",
          "Ecuador",
          "Zambia",
          "Seychelles",
          "Bulgaria",
          "Lesotho",
          "Cambodia",
          "Mexico",
          "Malawi",
          "Poland",
          "Honduras",
          "Georgia",
          "Montenegro",
          "Indonesia",
          "Israel",
          "South Africa",
          "Djibouti",
          "South Sudan",
          "Timor-Leste",
          "Chile",
          "Guatemala",
          "Viet Nam",
          "Lao People's Democratic Republic",
          "Sudan",
          "Malaysia",
          "Serbia",
          "Ethiopia",
          "El Salvador",
          "Philippines",
          "Algeria",
          "Eritrea",
          "Türkiye",
          "Sri Lanka",
          "Republic of Korea",
          "Lebanon",
          "Azerbaijan",
          "Thailand",
          "Syrian Arab Republic",
          "The former Yugoslav Republic of Macedonia",
          "Bolivia (Plurinational State of)",
          "Equatorial Guinea",
          "Jordan",
          "Bhutan",
          "Bosnia and Herzegovina",
          "Gabon",
          "Turkmenistan",
          "Kazakhstan",
          "Tunisia",
          "Myanmar",
          "Angola",
          "Central African Republic",
          "Burundi",
          "Peru",
          "Congo",
          "Libya",
          "Occupied Palestinian territory",
          "Cabo Verde",
          "Uganda",
          "Benin",
          "Democratic Republic of the Congo",
          "Iran (Islamic Republic of)",
          "Sao Tome and Principe",
          "Armenia",
          "Guinea-Bissau",
          "Oman",
          "Rwanda",
          "Togo",
          "Liberia",
          "Nepal",
          "Guinea",
          "Kyrgyzstan",
          "China",
          "Senegal",
          "Mali",
          "Gambia",
          "Iraq",
          "Sierra Leone",
          "Côte d’Ivoire",
          "Burkina Faso",
          "Uzbekistan",
          "Chad",
          "Mongolia",
          "Democratic People's Republic of Korea",
          "Yemen",
          "United Arab Emirates",
          "Mauritania",
          "Bangladesh",
          "Ghana",
          "Bahamas",
          "Finland",
          "Iceland",
          "Sweden",
          "Pakistan",
          "Niger",
          "India",
          "Bahrain",
          "Tajikistan",
          "Nigeria",
          "Cameroon",
          "Saudi Arabia",
          "Qatar",
          "Norway",
          "Estonia",
          "Canada",
          "Niue",
          "Tuvalu",
          "Brunei Darussalam",
          "Afghanistan",
          "Egypt",
          "Kuwait",
          "United States of America",
          "Marshall Islands",
          "Portugal",
          "Fiji",
          "Nauru",
          "Tonga",
          "Dominican Republic",
          "Kiribati",
          "Samoa",
          "Micronesia (Federated States of)",
          "Cook Islands",
          "Palau",
          "Solomon Islands",
          "Saint Kitts and Nevis",
          "Ireland",
          "Dominica",
          "Antigua and Barbuda",
          "Vanuatu",
          "Uruguay",
          "Andorra",
          "New Zealand",
          "Russian Federation",
          "Papua New Guinea",
          "Luxembourg",
          "Australia",
          "Switzerland",
          "Saint Lucia",
          "Monaco",
          "Spain",
          "Saint Vincent and the Grenadines",
          "United Kingdom of Great Britain and Northern Ireland",
          "Denmark",
          "Haiti",
          "Barbados",
          "San Marino"
         ],
         "type": "choropleth",
         "z": [
          10.08,
          10.26,
          10.37,
          10.46,
          10.48,
          10.51,
          10.73,
          10.74,
          10.84,
          10.94,
          11.11,
          11.26,
          11.51,
          11.78,
          11.81,
          12.02,
          12.04,
          12.17,
          12.31,
          12.37,
          12.52,
          12.82,
          12.93,
          13,
          13.08,
          13.3,
          13.32,
          13.33,
          13.44,
          13.51,
          14.04,
          14.08,
          14.22,
          14.24,
          14.28,
          14.34,
          14.37,
          14.52,
          14.62,
          14.7,
          14.83,
          15.07,
          15.29,
          15.36,
          15.48,
          15.89,
          16,
          16.02,
          16.21,
          16.28,
          16.45,
          16.55,
          16.9,
          16.96,
          17.29,
          17.6,
          17.8,
          17.83,
          18.57,
          18.83,
          18.93,
          19.06,
          19.3,
          19.34,
          19.47,
          19.75,
          19.98,
          20.18,
          20.47,
          20.49,
          20.75,
          20.89,
          21.15,
          21.43,
          21.52,
          21.74,
          21.8,
          22.15,
          22.45,
          22.68,
          22.74,
          23.25,
          23.88,
          24.04,
          24.23,
          24.64,
          24.64,
          25.14,
          25.17,
          25.23,
          25.67,
          25.87,
          26.1,
          26.19,
          26.29,
          26.41,
          26.5,
          26.52,
          27.16,
          27.16,
          27.2,
          28,
          29.07,
          29.48,
          29.84,
          30.82,
          31.08,
          31.31,
          31.51,
          31.58,
          31.62,
          33.75,
          34.13,
          34.85,
          34.88,
          35.66,
          35.66,
          35.8,
          36.43,
          37.57,
          37.58,
          38.15,
          38.21,
          38.55,
          39.1,
          39.29,
          39.42,
          40.41,
          40.74,
          40.98,
          41.15,
          41.3,
          41.46,
          41.61,
          41.75,
          41.98,
          45.99,
          46.04,
          5.2,
          5.47,
          5.79,
          5.96,
          50.13,
          50.15,
          50.17,
          51.82,
          53.65,
          55.64,
          56.37,
          57.16,
          59.04,
          6.3,
          6.35,
          6.39,
          6.74,
          6.81,
          6.86,
          62.49,
          63.16,
          64.08,
          7.18,
          7.21,
          7.34,
          7.36,
          7.4,
          7.52,
          7.59,
          7.62,
          7.78,
          7.79,
          7.8,
          7.82,
          7.83,
          8.05,
          8.2,
          8.22,
          8.3,
          8.42,
          8.48,
          8.52,
          8.61,
          8.88,
          8.89,
          8.89,
          8.93,
          8.97,
          8.98,
          9.21,
          9.34,
          9.41,
          9.52,
          9.66,
          9.69,
          9.79,
          9.85
         ]
        }
       ],
       "layout": {
        "autosize": false,
        "geo": {
         "projection": {
          "type": "mercator"
         },
         "showcoastlines": false,
         "showframe": false
        },
        "height": 800,
        "template": {
         "data": {
          "bar": [
           {
            "error_x": {
             "color": "#2a3f5f"
            },
            "error_y": {
             "color": "#2a3f5f"
            },
            "marker": {
             "line": {
              "color": "#E5ECF6",
              "width": 0.5
             },
             "pattern": {
              "fillmode": "overlay",
              "size": 10,
              "solidity": 0.2
             }
            },
            "type": "bar"
           }
          ],
          "barpolar": [
           {
            "marker": {
             "line": {
              "color": "#E5ECF6",
              "width": 0.5
             },
             "pattern": {
              "fillmode": "overlay",
              "size": 10,
              "solidity": 0.2
             }
            },
            "type": "barpolar"
           }
          ],
          "carpet": [
           {
            "aaxis": {
             "endlinecolor": "#2a3f5f",
             "gridcolor": "white",
             "linecolor": "white",
             "minorgridcolor": "white",
             "startlinecolor": "#2a3f5f"
            },
            "baxis": {
             "endlinecolor": "#2a3f5f",
             "gridcolor": "white",
             "linecolor": "white",
             "minorgridcolor": "white",
             "startlinecolor": "#2a3f5f"
            },
            "type": "carpet"
           }
          ],
          "choropleth": [
           {
            "colorbar": {
             "outlinewidth": 0,
             "ticks": ""
            },
            "type": "choropleth"
           }
          ],
          "contour": [
           {
            "colorbar": {
             "outlinewidth": 0,
             "ticks": ""
            },
            "colorscale": [
             [
              0,
              "#0d0887"
             ],
             [
              0.1111111111111111,
              "#46039f"
             ],
             [
              0.2222222222222222,
              "#7201a8"
             ],
             [
              0.3333333333333333,
              "#9c179e"
             ],
             [
              0.4444444444444444,
              "#bd3786"
             ],
             [
              0.5555555555555556,
              "#d8576b"
             ],
             [
              0.6666666666666666,
              "#ed7953"
             ],
             [
              0.7777777777777778,
              "#fb9f3a"
             ],
             [
              0.8888888888888888,
              "#fdca26"
             ],
             [
              1,
              "#f0f921"
             ]
            ],
            "type": "contour"
           }
          ],
          "contourcarpet": [
           {
            "colorbar": {
             "outlinewidth": 0,
             "ticks": ""
            },
            "type": "contourcarpet"
           }
          ],
          "heatmap": [
           {
            "colorbar": {
             "outlinewidth": 0,
             "ticks": ""
            },
            "colorscale": [
             [
              0,
              "#0d0887"
             ],
             [
              0.1111111111111111,
              "#46039f"
             ],
             [
              0.2222222222222222,
              "#7201a8"
             ],
             [
              0.3333333333333333,
              "#9c179e"
             ],
             [
              0.4444444444444444,
              "#bd3786"
             ],
             [
              0.5555555555555556,
              "#d8576b"
             ],
             [
              0.6666666666666666,
              "#ed7953"
             ],
             [
              0.7777777777777778,
              "#fb9f3a"
             ],
             [
              0.8888888888888888,
              "#fdca26"
             ],
             [
              1,
              "#f0f921"
             ]
            ],
            "type": "heatmap"
           }
          ],
          "heatmapgl": [
           {
            "colorbar": {
             "outlinewidth": 0,
             "ticks": ""
            },
            "colorscale": [
             [
              0,
              "#0d0887"
             ],
             [
              0.1111111111111111,
              "#46039f"
             ],
             [
              0.2222222222222222,
              "#7201a8"
             ],
             [
              0.3333333333333333,
              "#9c179e"
             ],
             [
              0.4444444444444444,
              "#bd3786"
             ],
             [
              0.5555555555555556,
              "#d8576b"
             ],
             [
              0.6666666666666666,
              "#ed7953"
             ],
             [
              0.7777777777777778,
              "#fb9f3a"
             ],
             [
              0.8888888888888888,
              "#fdca26"
             ],
             [
              1,
              "#f0f921"
             ]
            ],
            "type": "heatmapgl"
           }
          ],
          "histogram": [
           {
            "marker": {
             "pattern": {
              "fillmode": "overlay",
              "size": 10,
              "solidity": 0.2
             }
            },
            "type": "histogram"
           }
          ],
          "histogram2d": [
           {
            "colorbar": {
             "outlinewidth": 0,
             "ticks": ""
            },
            "colorscale": [
             [
              0,
              "#0d0887"
             ],
             [
              0.1111111111111111,
              "#46039f"
             ],
             [
              0.2222222222222222,
              "#7201a8"
             ],
             [
              0.3333333333333333,
              "#9c179e"
             ],
             [
              0.4444444444444444,
              "#bd3786"
             ],
             [
              0.5555555555555556,
              "#d8576b"
             ],
             [
              0.6666666666666666,
              "#ed7953"
             ],
             [
              0.7777777777777778,
              "#fb9f3a"
             ],
             [
              0.8888888888888888,
              "#fdca26"
             ],
             [
              1,
              "#f0f921"
             ]
            ],
            "type": "histogram2d"
           }
          ],
          "histogram2dcontour": [
           {
            "colorbar": {
             "outlinewidth": 0,
             "ticks": ""
            },
            "colorscale": [
             [
              0,
              "#0d0887"
             ],
             [
              0.1111111111111111,
              "#46039f"
             ],
             [
              0.2222222222222222,
              "#7201a8"
             ],
             [
              0.3333333333333333,
              "#9c179e"
             ],
             [
              0.4444444444444444,
              "#bd3786"
             ],
             [
              0.5555555555555556,
              "#d8576b"
             ],
             [
              0.6666666666666666,
              "#ed7953"
             ],
             [
              0.7777777777777778,
              "#fb9f3a"
             ],
             [
              0.8888888888888888,
              "#fdca26"
             ],
             [
              1,
              "#f0f921"
             ]
            ],
            "type": "histogram2dcontour"
           }
          ],
          "mesh3d": [
           {
            "colorbar": {
             "outlinewidth": 0,
             "ticks": ""
            },
            "type": "mesh3d"
           }
          ],
          "parcoords": [
           {
            "line": {
             "colorbar": {
              "outlinewidth": 0,
              "ticks": ""
             }
            },
            "type": "parcoords"
           }
          ],
          "pie": [
           {
            "automargin": true,
            "type": "pie"
           }
          ],
          "scatter": [
           {
            "fillpattern": {
             "fillmode": "overlay",
             "size": 10,
             "solidity": 0.2
            },
            "type": "scatter"
           }
          ],
          "scatter3d": [
           {
            "line": {
             "colorbar": {
              "outlinewidth": 0,
              "ticks": ""
             }
            },
            "marker": {
             "colorbar": {
              "outlinewidth": 0,
              "ticks": ""
             }
            },
            "type": "scatter3d"
           }
          ],
          "scattercarpet": [
           {
            "marker": {
             "colorbar": {
              "outlinewidth": 0,
              "ticks": ""
             }
            },
            "type": "scattercarpet"
           }
          ],
          "scattergeo": [
           {
            "marker": {
             "colorbar": {
              "outlinewidth": 0,
              "ticks": ""
             }
            },
            "type": "scattergeo"
           }
          ],
          "scattergl": [
           {
            "marker": {
             "colorbar": {
              "outlinewidth": 0,
              "ticks": ""
             }
            },
            "type": "scattergl"
           }
          ],
          "scattermapbox": [
           {
            "marker": {
             "colorbar": {
              "outlinewidth": 0,
              "ticks": ""
             }
            },
            "type": "scattermapbox"
           }
          ],
          "scatterpolar": [
           {
            "marker": {
             "colorbar": {
              "outlinewidth": 0,
              "ticks": ""
             }
            },
            "type": "scatterpolar"
           }
          ],
          "scatterpolargl": [
           {
            "marker": {
             "colorbar": {
              "outlinewidth": 0,
              "ticks": ""
             }
            },
            "type": "scatterpolargl"
           }
          ],
          "scatterternary": [
           {
            "marker": {
             "colorbar": {
              "outlinewidth": 0,
              "ticks": ""
             }
            },
            "type": "scatterternary"
           }
          ],
          "surface": [
           {
            "colorbar": {
             "outlinewidth": 0,
             "ticks": ""
            },
            "colorscale": [
             [
              0,
              "#0d0887"
             ],
             [
              0.1111111111111111,
              "#46039f"
             ],
             [
              0.2222222222222222,
              "#7201a8"
             ],
             [
              0.3333333333333333,
              "#9c179e"
             ],
             [
              0.4444444444444444,
              "#bd3786"
             ],
             [
              0.5555555555555556,
              "#d8576b"
             ],
             [
              0.6666666666666666,
              "#ed7953"
             ],
             [
              0.7777777777777778,
              "#fb9f3a"
             ],
             [
              0.8888888888888888,
              "#fdca26"
             ],
             [
              1,
              "#f0f921"
             ]
            ],
            "type": "surface"
           }
          ],
          "table": [
           {
            "cells": {
             "fill": {
              "color": "#EBF0F8"
             },
             "line": {
              "color": "white"
             }
            },
            "header": {
             "fill": {
              "color": "#C8D4E3"
             },
             "line": {
              "color": "white"
             }
            },
            "type": "table"
           }
          ]
         },
         "layout": {
          "annotationdefaults": {
           "arrowcolor": "#2a3f5f",
           "arrowhead": 0,
           "arrowwidth": 1
          },
          "autotypenumbers": "strict",
          "coloraxis": {
           "colorbar": {
            "outlinewidth": 0,
            "ticks": ""
           }
          },
          "colorscale": {
           "diverging": [
            [
             0,
             "#8e0152"
            ],
            [
             0.1,
             "#c51b7d"
            ],
            [
             0.2,
             "#de77ae"
            ],
            [
             0.3,
             "#f1b6da"
            ],
            [
             0.4,
             "#fde0ef"
            ],
            [
             0.5,
             "#f7f7f7"
            ],
            [
             0.6,
             "#e6f5d0"
            ],
            [
             0.7,
             "#b8e186"
            ],
            [
             0.8,
             "#7fbc41"
            ],
            [
             0.9,
             "#4d9221"
            ],
            [
             1,
             "#276419"
            ]
           ],
           "sequential": [
            [
             0,
             "#0d0887"
            ],
            [
             0.1111111111111111,
             "#46039f"
            ],
            [
             0.2222222222222222,
             "#7201a8"
            ],
            [
             0.3333333333333333,
             "#9c179e"
            ],
            [
             0.4444444444444444,
             "#bd3786"
            ],
            [
             0.5555555555555556,
             "#d8576b"
            ],
            [
             0.6666666666666666,
             "#ed7953"
            ],
            [
             0.7777777777777778,
             "#fb9f3a"
            ],
            [
             0.8888888888888888,
             "#fdca26"
            ],
            [
             1,
             "#f0f921"
            ]
           ],
           "sequentialminus": [
            [
             0,
             "#0d0887"
            ],
            [
             0.1111111111111111,
             "#46039f"
            ],
            [
             0.2222222222222222,
             "#7201a8"
            ],
            [
             0.3333333333333333,
             "#9c179e"
            ],
            [
             0.4444444444444444,
             "#bd3786"
            ],
            [
             0.5555555555555556,
             "#d8576b"
            ],
            [
             0.6666666666666666,
             "#ed7953"
            ],
            [
             0.7777777777777778,
             "#fb9f3a"
            ],
            [
             0.8888888888888888,
             "#fdca26"
            ],
            [
             1,
             "#f0f921"
            ]
           ]
          },
          "colorway": [
           "#636efa",
           "#EF553B",
           "#00cc96",
           "#ab63fa",
           "#FFA15A",
           "#19d3f3",
           "#FF6692",
           "#B6E880",
           "#FF97FF",
           "#FECB52"
          ],
          "font": {
           "color": "#2a3f5f"
          },
          "geo": {
           "bgcolor": "white",
           "lakecolor": "white",
           "landcolor": "#E5ECF6",
           "showlakes": true,
           "showland": true,
           "subunitcolor": "white"
          },
          "hoverlabel": {
           "align": "left"
          },
          "hovermode": "closest",
          "mapbox": {
           "style": "light"
          },
          "paper_bgcolor": "white",
          "plot_bgcolor": "#E5ECF6",
          "polar": {
           "angularaxis": {
            "gridcolor": "white",
            "linecolor": "white",
            "ticks": ""
           },
           "bgcolor": "#E5ECF6",
           "radialaxis": {
            "gridcolor": "white",
            "linecolor": "white",
            "ticks": ""
           }
          },
          "scene": {
           "xaxis": {
            "backgroundcolor": "#E5ECF6",
            "gridcolor": "white",
            "gridwidth": 2,
            "linecolor": "white",
            "showbackground": true,
            "ticks": "",
            "zerolinecolor": "white"
           },
           "yaxis": {
            "backgroundcolor": "#E5ECF6",
            "gridcolor": "white",
            "gridwidth": 2,
            "linecolor": "white",
            "showbackground": true,
            "ticks": "",
            "zerolinecolor": "white"
           },
           "zaxis": {
            "backgroundcolor": "#E5ECF6",
            "gridcolor": "white",
            "gridwidth": 2,
            "linecolor": "white",
            "showbackground": true,
            "ticks": "",
            "zerolinecolor": "white"
           }
          },
          "shapedefaults": {
           "line": {
            "color": "#2a3f5f"
           }
          },
          "ternary": {
           "aaxis": {
            "gridcolor": "white",
            "linecolor": "white",
            "ticks": ""
           },
           "baxis": {
            "gridcolor": "white",
            "linecolor": "white",
            "ticks": ""
           },
           "bgcolor": "#E5ECF6",
           "caxis": {
            "gridcolor": "white",
            "linecolor": "white",
            "ticks": ""
           }
          },
          "title": {
           "x": 0.05
          },
          "xaxis": {
           "automargin": true,
           "gridcolor": "white",
           "linecolor": "white",
           "ticks": "",
           "title": {
            "standoff": 15
           },
           "zerolinecolor": "white",
           "zerolinewidth": 2
          },
          "yaxis": {
           "automargin": true,
           "gridcolor": "white",
           "linecolor": "white",
           "ticks": "",
           "title": {
            "standoff": 15
           },
           "zerolinecolor": "white",
           "zerolinewidth": 2
          }
         }
        },
        "title": {
         "text": "Concentrations of Fine Particulate Matter (PM 2.5) Worldwide"
        },
        "width": 1000
       }
      },
      "text/html": [
       "<div>                            <div id=\"bb47c985-5e98-4336-b214-91bc01cfe7a5\" class=\"plotly-graph-div\" style=\"height:800px; width:1000px;\"></div>            <script type=\"text/javascript\">                require([\"plotly\"], function(Plotly) {                    window.PLOTLYENV=window.PLOTLYENV || {};                                    if (document.getElementById(\"bb47c985-5e98-4336-b214-91bc01cfe7a5\")) {                    Plotly.newPlot(                        \"bb47c985-5e98-4336-b214-91bc01cfe7a5\",                        [{\"colorbar\":{\"title\":{\"text\":\"Concentrations of fine Particulate matter (PM 2.5)\"}},\"colorscale\":[[0.0,\"#440154\"],[0.1111111111111111,\"#482878\"],[0.2222222222222222,\"#3e4989\"],[0.3333333333333333,\"#31688e\"],[0.4444444444444444,\"#26828e\"],[0.5555555555555556,\"#1f9e89\"],[0.6666666666666666,\"#35b779\"],[0.7777777777777778,\"#6ece58\"],[0.8888888888888888,\"#b5de2b\"],[1.0,\"#fde725\"]],\"locationmode\":\"country names\",\"locations\":[\"Grenada\",\"Trinidad and Tobago\",\"Lithuania\",\"France\",\"Mauritius\",\"Belize\",\"Germany\",\"Netherlands\",\"Japan\",\"Brazil\",\"Guyana\",\"Belgium\",\"Austria\",\"Panama\",\"Namibia\",\"Latvia\",\"Argentina\",\"Suriname\",\"Paraguay\",\"Republic of Moldova\",\"Kenya\",\"Botswana\",\"Malta\",\"Maldives\",\"Zimbabwe\",\"Romania\",\"Cuba\",\"Singapore\",\"Morocco\",\"Ukraine\",\"Colombia\",\"Slovenia\",\"Italy\",\"Hungary\",\"Somalia\",\"Czechia\",\"Comoros\",\"Cyprus\",\"Greece\",\"Costa Rica\",\"Jamaica\",\"Eswatini\",\"Croatia\",\"United Republic of Tanzania\",\"Belarus\",\"Slovakia\",\"Nicaragua\",\"Madagascar\",\"Venezuela (Bolivarian Republic of)\",\"Albania\",\"Mozambique\",\"Ecuador\",\"Zambia\",\"Seychelles\",\"Bulgaria\",\"Lesotho\",\"Cambodia\",\"Mexico\",\"Malawi\",\"Poland\",\"Honduras\",\"Georgia\",\"Montenegro\",\"Indonesia\",\"Israel\",\"South Africa\",\"Djibouti\",\"South Sudan\",\"Timor-Leste\",\"Chile\",\"Guatemala\",\"Viet Nam\",\"Lao People's Democratic Republic\",\"Sudan\",\"Malaysia\",\"Serbia\",\"Ethiopia\",\"El Salvador\",\"Philippines\",\"Algeria\",\"Eritrea\",\"T\\u00fcrkiye\",\"Sri Lanka\",\"Republic of Korea\",\"Lebanon\",\"Azerbaijan\",\"Thailand\",\"Syrian Arab Republic\",\"The former Yugoslav Republic of Macedonia\",\"Bolivia (Plurinational State of)\",\"Equatorial Guinea\",\"Jordan\",\"Bhutan\",\"Bosnia and Herzegovina\",\"Gabon\",\"Turkmenistan\",\"Kazakhstan\",\"Tunisia\",\"Myanmar\",\"Angola\",\"Central African Republic\",\"Burundi\",\"Peru\",\"Congo\",\"Libya\",\"Occupied Palestinian territory\",\"Cabo Verde\",\"Uganda\",\"Benin\",\"Democratic Republic of the Congo\",\"Iran (Islamic Republic of)\",\"Sao Tome and Principe\",\"Armenia\",\"Guinea-Bissau\",\"Oman\",\"Rwanda\",\"Togo\",\"Liberia\",\"Nepal\",\"Guinea\",\"Kyrgyzstan\",\"China\",\"Senegal\",\"Mali\",\"Gambia\",\"Iraq\",\"Sierra Leone\",\"C\\u00f4te d\\u2019Ivoire\",\"Burkina Faso\",\"Uzbekistan\",\"Chad\",\"Mongolia\",\"Democratic People's Republic of Korea\",\"Yemen\",\"United Arab Emirates\",\"Mauritania\",\"Bangladesh\",\"Ghana\",\"Bahamas\",\"Finland\",\"Iceland\",\"Sweden\",\"Pakistan\",\"Niger\",\"India\",\"Bahrain\",\"Tajikistan\",\"Nigeria\",\"Cameroon\",\"Saudi Arabia\",\"Qatar\",\"Norway\",\"Estonia\",\"Canada\",\"Niue\",\"Tuvalu\",\"Brunei Darussalam\",\"Afghanistan\",\"Egypt\",\"Kuwait\",\"United States of America\",\"Marshall Islands\",\"Portugal\",\"Fiji\",\"Nauru\",\"Tonga\",\"Dominican Republic\",\"Kiribati\",\"Samoa\",\"Micronesia (Federated States of)\",\"Cook Islands\",\"Palau\",\"Solomon Islands\",\"Saint Kitts and Nevis\",\"Ireland\",\"Dominica\",\"Antigua and Barbuda\",\"Vanuatu\",\"Uruguay\",\"Andorra\",\"New Zealand\",\"Russian Federation\",\"Papua New Guinea\",\"Luxembourg\",\"Australia\",\"Switzerland\",\"Saint Lucia\",\"Monaco\",\"Spain\",\"Saint Vincent and the Grenadines\",\"United Kingdom of Great Britain and Northern Ireland\",\"Denmark\",\"Haiti\",\"Barbados\",\"San Marino\"],\"reversescale\":true,\"text\":[\"Grenada\",\"Trinidad and Tobago\",\"Lithuania\",\"France\",\"Mauritius\",\"Belize\",\"Germany\",\"Netherlands\",\"Japan\",\"Brazil\",\"Guyana\",\"Belgium\",\"Austria\",\"Panama\",\"Namibia\",\"Latvia\",\"Argentina\",\"Suriname\",\"Paraguay\",\"Republic of Moldova\",\"Kenya\",\"Botswana\",\"Malta\",\"Maldives\",\"Zimbabwe\",\"Romania\",\"Cuba\",\"Singapore\",\"Morocco\",\"Ukraine\",\"Colombia\",\"Slovenia\",\"Italy\",\"Hungary\",\"Somalia\",\"Czechia\",\"Comoros\",\"Cyprus\",\"Greece\",\"Costa Rica\",\"Jamaica\",\"Eswatini\",\"Croatia\",\"United Republic of Tanzania\",\"Belarus\",\"Slovakia\",\"Nicaragua\",\"Madagascar\",\"Venezuela (Bolivarian Republic of)\",\"Albania\",\"Mozambique\",\"Ecuador\",\"Zambia\",\"Seychelles\",\"Bulgaria\",\"Lesotho\",\"Cambodia\",\"Mexico\",\"Malawi\",\"Poland\",\"Honduras\",\"Georgia\",\"Montenegro\",\"Indonesia\",\"Israel\",\"South Africa\",\"Djibouti\",\"South Sudan\",\"Timor-Leste\",\"Chile\",\"Guatemala\",\"Viet Nam\",\"Lao People's Democratic Republic\",\"Sudan\",\"Malaysia\",\"Serbia\",\"Ethiopia\",\"El Salvador\",\"Philippines\",\"Algeria\",\"Eritrea\",\"T\\u00fcrkiye\",\"Sri Lanka\",\"Republic of Korea\",\"Lebanon\",\"Azerbaijan\",\"Thailand\",\"Syrian Arab Republic\",\"The former Yugoslav Republic of Macedonia\",\"Bolivia (Plurinational State of)\",\"Equatorial Guinea\",\"Jordan\",\"Bhutan\",\"Bosnia and Herzegovina\",\"Gabon\",\"Turkmenistan\",\"Kazakhstan\",\"Tunisia\",\"Myanmar\",\"Angola\",\"Central African Republic\",\"Burundi\",\"Peru\",\"Congo\",\"Libya\",\"Occupied Palestinian territory\",\"Cabo Verde\",\"Uganda\",\"Benin\",\"Democratic Republic of the Congo\",\"Iran (Islamic Republic of)\",\"Sao Tome and Principe\",\"Armenia\",\"Guinea-Bissau\",\"Oman\",\"Rwanda\",\"Togo\",\"Liberia\",\"Nepal\",\"Guinea\",\"Kyrgyzstan\",\"China\",\"Senegal\",\"Mali\",\"Gambia\",\"Iraq\",\"Sierra Leone\",\"C\\u00f4te d\\u2019Ivoire\",\"Burkina Faso\",\"Uzbekistan\",\"Chad\",\"Mongolia\",\"Democratic People's Republic of Korea\",\"Yemen\",\"United Arab Emirates\",\"Mauritania\",\"Bangladesh\",\"Ghana\",\"Bahamas\",\"Finland\",\"Iceland\",\"Sweden\",\"Pakistan\",\"Niger\",\"India\",\"Bahrain\",\"Tajikistan\",\"Nigeria\",\"Cameroon\",\"Saudi Arabia\",\"Qatar\",\"Norway\",\"Estonia\",\"Canada\",\"Niue\",\"Tuvalu\",\"Brunei Darussalam\",\"Afghanistan\",\"Egypt\",\"Kuwait\",\"United States of America\",\"Marshall Islands\",\"Portugal\",\"Fiji\",\"Nauru\",\"Tonga\",\"Dominican Republic\",\"Kiribati\",\"Samoa\",\"Micronesia (Federated States of)\",\"Cook Islands\",\"Palau\",\"Solomon Islands\",\"Saint Kitts and Nevis\",\"Ireland\",\"Dominica\",\"Antigua and Barbuda\",\"Vanuatu\",\"Uruguay\",\"Andorra\",\"New Zealand\",\"Russian Federation\",\"Papua New Guinea\",\"Luxembourg\",\"Australia\",\"Switzerland\",\"Saint Lucia\",\"Monaco\",\"Spain\",\"Saint Vincent and the Grenadines\",\"United Kingdom of Great Britain and Northern Ireland\",\"Denmark\",\"Haiti\",\"Barbados\",\"San Marino\"],\"z\":[10.08,10.26,10.37,10.46,10.48,10.51,10.73,10.74,10.84,10.94,11.11,11.26,11.51,11.78,11.81,12.02,12.04,12.17,12.31,12.37,12.52,12.82,12.93,13.0,13.08,13.3,13.32,13.33,13.44,13.51,14.04,14.08,14.22,14.24,14.28,14.34,14.37,14.52,14.62,14.7,14.83,15.07,15.29,15.36,15.48,15.89,16.0,16.02,16.21,16.28,16.45,16.55,16.9,16.96,17.29,17.6,17.8,17.83,18.57,18.83,18.93,19.06,19.3,19.34,19.47,19.75,19.98,20.18,20.47,20.49,20.75,20.89,21.15,21.43,21.52,21.74,21.8,22.15,22.45,22.68,22.74,23.25,23.88,24.04,24.23,24.64,24.64,25.14,25.17,25.23,25.67,25.87,26.1,26.19,26.29,26.41,26.5,26.52,27.16,27.16,27.2,28.0,29.07,29.48,29.84,30.82,31.08,31.31,31.51,31.58,31.62,33.75,34.13,34.85,34.88,35.66,35.66,35.8,36.43,37.57,37.58,38.15,38.21,38.55,39.1,39.29,39.42,40.41,40.74,40.98,41.15,41.3,41.46,41.61,41.75,41.98,45.99,46.04,5.2,5.47,5.79,5.96,50.13,50.15,50.17,51.82,53.65,55.64,56.37,57.16,59.04,6.3,6.35,6.39,6.74,6.81,6.86,62.49,63.16,64.08,7.18,7.21,7.34,7.36,7.4,7.52,7.59,7.62,7.78,7.79,7.8,7.82,7.83,8.05,8.2,8.22,8.3,8.42,8.48,8.52,8.61,8.88,8.89,8.89,8.93,8.97,8.98,9.21,9.34,9.41,9.52,9.66,9.69,9.79,9.85],\"type\":\"choropleth\"}],                        {\"template\":{\"data\":{\"histogram2dcontour\":[{\"type\":\"histogram2dcontour\",\"colorbar\":{\"outlinewidth\":0,\"ticks\":\"\"},\"colorscale\":[[0.0,\"#0d0887\"],[0.1111111111111111,\"#46039f\"],[0.2222222222222222,\"#7201a8\"],[0.3333333333333333,\"#9c179e\"],[0.4444444444444444,\"#bd3786\"],[0.5555555555555556,\"#d8576b\"],[0.6666666666666666,\"#ed7953\"],[0.7777777777777778,\"#fb9f3a\"],[0.8888888888888888,\"#fdca26\"],[1.0,\"#f0f921\"]]}],\"choropleth\":[{\"type\":\"choropleth\",\"colorbar\":{\"outlinewidth\":0,\"ticks\":\"\"}}],\"histogram2d\":[{\"type\":\"histogram2d\",\"colorbar\":{\"outlinewidth\":0,\"ticks\":\"\"},\"colorscale\":[[0.0,\"#0d0887\"],[0.1111111111111111,\"#46039f\"],[0.2222222222222222,\"#7201a8\"],[0.3333333333333333,\"#9c179e\"],[0.4444444444444444,\"#bd3786\"],[0.5555555555555556,\"#d8576b\"],[0.6666666666666666,\"#ed7953\"],[0.7777777777777778,\"#fb9f3a\"],[0.8888888888888888,\"#fdca26\"],[1.0,\"#f0f921\"]]}],\"heatmap\":[{\"type\":\"heatmap\",\"colorbar\":{\"outlinewidth\":0,\"ticks\":\"\"},\"colorscale\":[[0.0,\"#0d0887\"],[0.1111111111111111,\"#46039f\"],[0.2222222222222222,\"#7201a8\"],[0.3333333333333333,\"#9c179e\"],[0.4444444444444444,\"#bd3786\"],[0.5555555555555556,\"#d8576b\"],[0.6666666666666666,\"#ed7953\"],[0.7777777777777778,\"#fb9f3a\"],[0.8888888888888888,\"#fdca26\"],[1.0,\"#f0f921\"]]}],\"heatmapgl\":[{\"type\":\"heatmapgl\",\"colorbar\":{\"outlinewidth\":0,\"ticks\":\"\"},\"colorscale\":[[0.0,\"#0d0887\"],[0.1111111111111111,\"#46039f\"],[0.2222222222222222,\"#7201a8\"],[0.3333333333333333,\"#9c179e\"],[0.4444444444444444,\"#bd3786\"],[0.5555555555555556,\"#d8576b\"],[0.6666666666666666,\"#ed7953\"],[0.7777777777777778,\"#fb9f3a\"],[0.8888888888888888,\"#fdca26\"],[1.0,\"#f0f921\"]]}],\"contourcarpet\":[{\"type\":\"contourcarpet\",\"colorbar\":{\"outlinewidth\":0,\"ticks\":\"\"}}],\"contour\":[{\"type\":\"contour\",\"colorbar\":{\"outlinewidth\":0,\"ticks\":\"\"},\"colorscale\":[[0.0,\"#0d0887\"],[0.1111111111111111,\"#46039f\"],[0.2222222222222222,\"#7201a8\"],[0.3333333333333333,\"#9c179e\"],[0.4444444444444444,\"#bd3786\"],[0.5555555555555556,\"#d8576b\"],[0.6666666666666666,\"#ed7953\"],[0.7777777777777778,\"#fb9f3a\"],[0.8888888888888888,\"#fdca26\"],[1.0,\"#f0f921\"]]}],\"surface\":[{\"type\":\"surface\",\"colorbar\":{\"outlinewidth\":0,\"ticks\":\"\"},\"colorscale\":[[0.0,\"#0d0887\"],[0.1111111111111111,\"#46039f\"],[0.2222222222222222,\"#7201a8\"],[0.3333333333333333,\"#9c179e\"],[0.4444444444444444,\"#bd3786\"],[0.5555555555555556,\"#d8576b\"],[0.6666666666666666,\"#ed7953\"],[0.7777777777777778,\"#fb9f3a\"],[0.8888888888888888,\"#fdca26\"],[1.0,\"#f0f921\"]]}],\"mesh3d\":[{\"type\":\"mesh3d\",\"colorbar\":{\"outlinewidth\":0,\"ticks\":\"\"}}],\"scatter\":[{\"fillpattern\":{\"fillmode\":\"overlay\",\"size\":10,\"solidity\":0.2},\"type\":\"scatter\"}],\"parcoords\":[{\"type\":\"parcoords\",\"line\":{\"colorbar\":{\"outlinewidth\":0,\"ticks\":\"\"}}}],\"scatterpolargl\":[{\"type\":\"scatterpolargl\",\"marker\":{\"colorbar\":{\"outlinewidth\":0,\"ticks\":\"\"}}}],\"bar\":[{\"error_x\":{\"color\":\"#2a3f5f\"},\"error_y\":{\"color\":\"#2a3f5f\"},\"marker\":{\"line\":{\"color\":\"#E5ECF6\",\"width\":0.5},\"pattern\":{\"fillmode\":\"overlay\",\"size\":10,\"solidity\":0.2}},\"type\":\"bar\"}],\"scattergeo\":[{\"type\":\"scattergeo\",\"marker\":{\"colorbar\":{\"outlinewidth\":0,\"ticks\":\"\"}}}],\"scatterpolar\":[{\"type\":\"scatterpolar\",\"marker\":{\"colorbar\":{\"outlinewidth\":0,\"ticks\":\"\"}}}],\"histogram\":[{\"marker\":{\"pattern\":{\"fillmode\":\"overlay\",\"size\":10,\"solidity\":0.2}},\"type\":\"histogram\"}],\"scattergl\":[{\"type\":\"scattergl\",\"marker\":{\"colorbar\":{\"outlinewidth\":0,\"ticks\":\"\"}}}],\"scatter3d\":[{\"type\":\"scatter3d\",\"line\":{\"colorbar\":{\"outlinewidth\":0,\"ticks\":\"\"}},\"marker\":{\"colorbar\":{\"outlinewidth\":0,\"ticks\":\"\"}}}],\"scattermapbox\":[{\"type\":\"scattermapbox\",\"marker\":{\"colorbar\":{\"outlinewidth\":0,\"ticks\":\"\"}}}],\"scatterternary\":[{\"type\":\"scatterternary\",\"marker\":{\"colorbar\":{\"outlinewidth\":0,\"ticks\":\"\"}}}],\"scattercarpet\":[{\"type\":\"scattercarpet\",\"marker\":{\"colorbar\":{\"outlinewidth\":0,\"ticks\":\"\"}}}],\"carpet\":[{\"aaxis\":{\"endlinecolor\":\"#2a3f5f\",\"gridcolor\":\"white\",\"linecolor\":\"white\",\"minorgridcolor\":\"white\",\"startlinecolor\":\"#2a3f5f\"},\"baxis\":{\"endlinecolor\":\"#2a3f5f\",\"gridcolor\":\"white\",\"linecolor\":\"white\",\"minorgridcolor\":\"white\",\"startlinecolor\":\"#2a3f5f\"},\"type\":\"carpet\"}],\"table\":[{\"cells\":{\"fill\":{\"color\":\"#EBF0F8\"},\"line\":{\"color\":\"white\"}},\"header\":{\"fill\":{\"color\":\"#C8D4E3\"},\"line\":{\"color\":\"white\"}},\"type\":\"table\"}],\"barpolar\":[{\"marker\":{\"line\":{\"color\":\"#E5ECF6\",\"width\":0.5},\"pattern\":{\"fillmode\":\"overlay\",\"size\":10,\"solidity\":0.2}},\"type\":\"barpolar\"}],\"pie\":[{\"automargin\":true,\"type\":\"pie\"}]},\"layout\":{\"autotypenumbers\":\"strict\",\"colorway\":[\"#636efa\",\"#EF553B\",\"#00cc96\",\"#ab63fa\",\"#FFA15A\",\"#19d3f3\",\"#FF6692\",\"#B6E880\",\"#FF97FF\",\"#FECB52\"],\"font\":{\"color\":\"#2a3f5f\"},\"hovermode\":\"closest\",\"hoverlabel\":{\"align\":\"left\"},\"paper_bgcolor\":\"white\",\"plot_bgcolor\":\"#E5ECF6\",\"polar\":{\"bgcolor\":\"#E5ECF6\",\"angularaxis\":{\"gridcolor\":\"white\",\"linecolor\":\"white\",\"ticks\":\"\"},\"radialaxis\":{\"gridcolor\":\"white\",\"linecolor\":\"white\",\"ticks\":\"\"}},\"ternary\":{\"bgcolor\":\"#E5ECF6\",\"aaxis\":{\"gridcolor\":\"white\",\"linecolor\":\"white\",\"ticks\":\"\"},\"baxis\":{\"gridcolor\":\"white\",\"linecolor\":\"white\",\"ticks\":\"\"},\"caxis\":{\"gridcolor\":\"white\",\"linecolor\":\"white\",\"ticks\":\"\"}},\"coloraxis\":{\"colorbar\":{\"outlinewidth\":0,\"ticks\":\"\"}},\"colorscale\":{\"sequential\":[[0.0,\"#0d0887\"],[0.1111111111111111,\"#46039f\"],[0.2222222222222222,\"#7201a8\"],[0.3333333333333333,\"#9c179e\"],[0.4444444444444444,\"#bd3786\"],[0.5555555555555556,\"#d8576b\"],[0.6666666666666666,\"#ed7953\"],[0.7777777777777778,\"#fb9f3a\"],[0.8888888888888888,\"#fdca26\"],[1.0,\"#f0f921\"]],\"sequentialminus\":[[0.0,\"#0d0887\"],[0.1111111111111111,\"#46039f\"],[0.2222222222222222,\"#7201a8\"],[0.3333333333333333,\"#9c179e\"],[0.4444444444444444,\"#bd3786\"],[0.5555555555555556,\"#d8576b\"],[0.6666666666666666,\"#ed7953\"],[0.7777777777777778,\"#fb9f3a\"],[0.8888888888888888,\"#fdca26\"],[1.0,\"#f0f921\"]],\"diverging\":[[0,\"#8e0152\"],[0.1,\"#c51b7d\"],[0.2,\"#de77ae\"],[0.3,\"#f1b6da\"],[0.4,\"#fde0ef\"],[0.5,\"#f7f7f7\"],[0.6,\"#e6f5d0\"],[0.7,\"#b8e186\"],[0.8,\"#7fbc41\"],[0.9,\"#4d9221\"],[1,\"#276419\"]]},\"xaxis\":{\"gridcolor\":\"white\",\"linecolor\":\"white\",\"ticks\":\"\",\"title\":{\"standoff\":15},\"zerolinecolor\":\"white\",\"automargin\":true,\"zerolinewidth\":2},\"yaxis\":{\"gridcolor\":\"white\",\"linecolor\":\"white\",\"ticks\":\"\",\"title\":{\"standoff\":15},\"zerolinecolor\":\"white\",\"automargin\":true,\"zerolinewidth\":2},\"scene\":{\"xaxis\":{\"backgroundcolor\":\"#E5ECF6\",\"gridcolor\":\"white\",\"linecolor\":\"white\",\"showbackground\":true,\"ticks\":\"\",\"zerolinecolor\":\"white\",\"gridwidth\":2},\"yaxis\":{\"backgroundcolor\":\"#E5ECF6\",\"gridcolor\":\"white\",\"linecolor\":\"white\",\"showbackground\":true,\"ticks\":\"\",\"zerolinecolor\":\"white\",\"gridwidth\":2},\"zaxis\":{\"backgroundcolor\":\"#E5ECF6\",\"gridcolor\":\"white\",\"linecolor\":\"white\",\"showbackground\":true,\"ticks\":\"\",\"zerolinecolor\":\"white\",\"gridwidth\":2}},\"shapedefaults\":{\"line\":{\"color\":\"#2a3f5f\"}},\"annotationdefaults\":{\"arrowcolor\":\"#2a3f5f\",\"arrowhead\":0,\"arrowwidth\":1},\"geo\":{\"bgcolor\":\"white\",\"landcolor\":\"#E5ECF6\",\"subunitcolor\":\"white\",\"showland\":true,\"showlakes\":true,\"lakecolor\":\"white\"},\"title\":{\"x\":0.05},\"mapbox\":{\"style\":\"light\"}}},\"title\":{\"text\":\"Concentrations of Fine Particulate Matter (PM 2.5) Worldwide\"},\"geo\":{\"projection\":{\"type\":\"mercator\"},\"showframe\":false,\"showcoastlines\":false},\"autosize\":false,\"width\":1000,\"height\":800},                        {\"responsive\": true}                    ).then(function(){\n",
       "                            \n",
       "var gd = document.getElementById('bb47c985-5e98-4336-b214-91bc01cfe7a5');\n",
       "var x = new MutationObserver(function (mutations, observer) {{\n",
       "        var display = window.getComputedStyle(gd).display;\n",
       "        if (!display || display === 'none') {{\n",
       "            console.log([gd, 'removed!']);\n",
       "            Plotly.purge(gd);\n",
       "            observer.disconnect();\n",
       "        }}\n",
       "}});\n",
       "\n",
       "// Listen for the removal of the full notebook cells\n",
       "var notebookContainer = gd.closest('#notebook-container');\n",
       "if (notebookContainer) {{\n",
       "    x.observe(notebookContainer, {childList: true});\n",
       "}}\n",
       "\n",
       "// Listen for the clearing of the current output cell\n",
       "var outputEl = gd.closest('.output');\n",
       "if (outputEl) {{\n",
       "    x.observe(outputEl, {childList: true});\n",
       "}}\n",
       "\n",
       "                        })                };                });            </script>        </div>"
      ]
     },
     "metadata": {},
     "output_type": "display_data"
    }
   ],
   "source": [
    "fig = go.Figure(data=go.Choropleth(\n",
    "    colorscale = 'Viridis',\n",
    "    reversescale = True,\n",
    "    locations = df['Location'],\n",
    "    locationmode = \"country names\",\n",
    "    z = value,\n",
    "    text = df['Location'],\n",
    "    colorbar = {'title' : 'Concentrations of fine Particulate matter (PM 2.5)'},\n",
    "))\n",
    "\n",
    "fig.update_layout(\n",
    "    title_text = 'Concentrations of Fine Particulate Matter (PM 2.5) Worldwide',\n",
    "    geo=dict(\n",
    "        showframe=False,\n",
    "        showcoastlines=False,\n",
    "        projection_type='mercator'\n",
    "    ),\n",
    "    autosize=False,\n",
    "    width=1000,  # Adjust as needed\n",
    "    height=800,  # Adjust as needed\n",
    "\n",
    ")\n",
    "\n",
    "fig.show()"
   ]
  },
  {
   "cell_type": "code",
   "execution_count": null,
   "id": "ec0b00f7",
   "metadata": {},
   "outputs": [],
   "source": []
  }
 ],
 "metadata": {
  "kernelspec": {
   "display_name": "Python 3 (ipykernel)",
   "language": "python",
   "name": "python3"
  },
  "language_info": {
   "codemirror_mode": {
    "name": "ipython",
    "version": 3
   },
   "file_extension": ".py",
   "mimetype": "text/x-python",
   "name": "python",
   "nbconvert_exporter": "python",
   "pygments_lexer": "ipython3",
   "version": "3.9.13"
  }
 },
 "nbformat": 4,
 "nbformat_minor": 5
}
